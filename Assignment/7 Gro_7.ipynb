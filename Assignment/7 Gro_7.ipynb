{
  "nbformat": 4,
  "nbformat_minor": 0,
  "metadata": {
    "colab": {
      "provenance": []
    },
    "kernelspec": {
      "name": "python3",
      "display_name": "Python 3"
    },
    "language_info": {
      "name": "python"
    }
  },
  "cells": [
    {
      "cell_type": "markdown",
      "source": [
        "Suppose using the \"Optical Recognition of Handwritten Disease\" database SVM\n",
        " classifier gives better performance, then list the tabular form such as\n",
        ""
      ],
      "metadata": {
        "id": "YJC1VEgxFtax"
      }
    },
    {
      "cell_type": "code",
      "execution_count": 1,
      "metadata": {
        "colab": {
          "base_uri": "https://localhost:8080/"
        },
        "id": "UmMAlMsUFahv",
        "outputId": "5c04b8fa-1140-40ff-bc2f-8f32e3954418"
      },
      "outputs": [
        {
          "output_type": "stream",
          "name": "stdout",
          "text": [
            "   Nature  Learning_rate  F1_score\n",
            "0  linear            0.1  0.979622\n",
            "1  linear            0.3  0.979622\n",
            "2  linear            0.5  0.979622\n",
            "3    poly            0.1  0.983281\n",
            "4    poly            0.3  0.988881\n",
            "5    poly            0.5  0.990741\n",
            "6     rbf            0.1  0.959159\n",
            "7     rbf            0.3  0.979545\n",
            "8     rbf            0.5  0.983305\n"
          ]
        }
      ],
      "source": [
        "# Import necessary libraries\n",
        "from sklearn import datasets\n",
        "from sklearn.model_selection import train_test_split\n",
        "from sklearn.svm import SVC\n",
        "from sklearn.metrics import f1_score\n",
        "import pandas as pd\n",
        "\n",
        "# Load the dataset\n",
        "digits = datasets.load_digits()\n",
        "X, y = digits.data, digits.target\n",
        "\n",
        "# Split the data into training and testing sets\n",
        "X_train, X_test, y_train, y_test = train_test_split(X, y, test_size=0.3, random_state=42)\n",
        "\n",
        "# Define kernel types and C (learning_rate) values\n",
        "kernels = ['linear', 'poly', 'rbf']\n",
        "C_values = [0.1, 0.3, 0.5]\n",
        "results = []\n",
        "\n",
        "# Train and evaluate the model for each kernel and C value\n",
        "for kernel in kernels:\n",
        "    for C in C_values:\n",
        "        svm = SVC(kernel=kernel, C=C)\n",
        "        svm.fit(X_train, y_train)\n",
        "\n",
        "        # Predict and evaluate the model\n",
        "        y_pred = svm.predict(X_test)\n",
        "        f1 = f1_score(y_test, y_pred, average='weighted')\n",
        "\n",
        "        # Append results\n",
        "        results.append({'Nature': kernel, 'Learning_rate': C, 'F1_score': f1})\n",
        "\n",
        "# Create a DataFrame to display results in tabular format\n",
        "results_df = pd.DataFrame(results)\n",
        "print(results_df)\n"
      ]
    }
  ]
}