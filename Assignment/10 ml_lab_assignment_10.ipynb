{
  "nbformat": 4,
  "nbformat_minor": 0,
  "metadata": {
    "colab": {
      "provenance": []
    },
    "kernelspec": {
      "name": "python3",
      "display_name": "Python 3"
    },
    "language_info": {
      "name": "python"
    }
  },
  "cells": [
    {
      "cell_type": "code",
      "execution_count": null,
      "metadata": {
        "colab": {
          "base_uri": "https://localhost:8080/"
        },
        "id": "gWzepGeGM1mK",
        "outputId": "6a945fe6-74ab-4d46-9cfd-551f8839dd0c"
      },
      "outputs": [
        {
          "output_type": "stream",
          "name": "stdout",
          "text": [
            "Downloading...\n",
            "From: https://drive.google.com/uc?id=1FGul56hum7JLk3WtotNjmzPs9-7yajOS\n",
            "To: /content/ml-usi-disease-ds-clean.zip\n",
            "\r  0% 0.00/77.7k [00:00<?, ?B/s]\r100% 77.7k/77.7k [00:00<00:00, 70.3MB/s]\n",
            "Archive:  ml-usi-disease-ds-clean.zip\n",
            "  inflating: thyroid-clean.csv       \n",
            "  inflating: diabetes-clean.csv      \n",
            "  inflating: heartdis-clean.csv      \n"
          ]
        }
      ],
      "source": [
        "!gdown 1FGul56hum7JLk3WtotNjmzPs9-7yajOS\n",
        "!rm *.csv\n",
        "!unzip *.zip\n",
        "!rm *.zip"
      ]
    },
    {
      "cell_type": "code",
      "source": [
        "diabetes_codes = {\n",
        "  \"Regular insulin dose\": 33,\n",
        "  \"NPH insulin dose\": 34,\n",
        "  \"UltraLente insulin dose\": 35,\n",
        "  \"Unspecified blood glucose measurement\": 48,\n",
        "  \"Pre-breakfast blood glucose measurement\": 58,\n",
        "  \"Post-breakfast blood glucose measurement\": 59,\n",
        "  \"Pre-lunch blood glucose measurement\": 60,\n",
        "  \"Post-lunch blood glucose measurement\": 61,\n",
        "  \"Pre-supper blood glucose measurement\": 62,\n",
        "  \"Post-supper blood glucose measurement\": 63,\n",
        "  \"Pre-snack blood glucose measurement\": 64,\n",
        "  \"Hypoglycemic symptoms\": 65,\n",
        "  \"Typical meal ingestion\": 66,\n",
        "  \"More-than-usual meal ingestion\": 67,\n",
        "  \"Less-than-usual meal ingestion\": 68,\n",
        "  \"Typical exercise activity\": 69,\n",
        "  \"More-than-usual exercise activity\": 70,\n",
        "  \"Less-than-usual exercise activity\": 71,\n",
        "  \"Unspecified special event\": 72\n",
        "}"
      ],
      "metadata": {
        "id": "8u3vxca_PsUK"
      },
      "execution_count": null,
      "outputs": []
    },
    {
      "cell_type": "code",
      "source": [
        "import pandas as pd\n",
        "import numpy as np\n",
        "import matplotlib.pyplot as plt\n",
        "from sklearn.model_selection import train_test_split\n",
        "from sklearn.metrics import accuracy_score, f1_score, precision_score, recall_score\n",
        "from sklearn.preprocessing import StandardScaler"
      ],
      "metadata": {
        "id": "phu0GU2vODsS"
      },
      "execution_count": null,
      "outputs": []
    },
    {
      "cell_type": "markdown",
      "source": [
        "# Loading Data"
      ],
      "metadata": {
        "id": "sz9ipJSNKDCW"
      }
    },
    {
      "cell_type": "code",
      "source": [
        "df_diabetes = pd.read_csv(\"diabetes-clean.csv\")\n",
        "df_heartdis = pd.read_csv(\"heartdis-clean.csv\")\n",
        "df_thyroid = pd.read_csv(\"thyroid-clean.csv\")"
      ],
      "metadata": {
        "id": "qaGyHow8JdE7"
      },
      "execution_count": null,
      "outputs": []
    },
    {
      "cell_type": "code",
      "source": [
        "df_diabetes.info()"
      ],
      "metadata": {
        "colab": {
          "base_uri": "https://localhost:8080/"
        },
        "id": "ubSuaLecJp4I",
        "outputId": "d22809cb-af4f-4654-bba2-7a1f74043d21"
      },
      "execution_count": null,
      "outputs": [
        {
          "output_type": "stream",
          "name": "stdout",
          "text": [
            "<class 'pandas.core.frame.DataFrame'>\n",
            "RangeIndex: 29257 entries, 0 to 29256\n",
            "Data columns (total 2 columns):\n",
            " #   Column         Non-Null Count  Dtype\n",
            "---  ------         --------------  -----\n",
            " 0   code           29257 non-null  int64\n",
            " 1   diabetes_type  29257 non-null  int64\n",
            "dtypes: int64(2)\n",
            "memory usage: 457.3 KB\n"
          ]
        }
      ]
    },
    {
      "cell_type": "code",
      "source": [
        "df_heartdis.info()"
      ],
      "metadata": {
        "colab": {
          "base_uri": "https://localhost:8080/"
        },
        "id": "NvNexdgOJtAf",
        "outputId": "0aa89c8f-6179-42b1-d652-b166740f6e63"
      },
      "execution_count": null,
      "outputs": [
        {
          "output_type": "stream",
          "name": "stdout",
          "text": [
            "<class 'pandas.core.frame.DataFrame'>\n",
            "RangeIndex: 740 entries, 0 to 739\n",
            "Data columns (total 11 columns):\n",
            " #   Column         Non-Null Count  Dtype  \n",
            "---  ------         --------------  -----  \n",
            " 0   age            740 non-null    int64  \n",
            " 1   sex            740 non-null    object \n",
            " 2   cp             740 non-null    object \n",
            " 3   trestbps       740 non-null    float64\n",
            " 4   chol           740 non-null    float64\n",
            " 5   fbs            740 non-null    bool   \n",
            " 6   restecg        740 non-null    object \n",
            " 7   thalch         740 non-null    float64\n",
            " 8   exang          740 non-null    bool   \n",
            " 9   oldpeak        740 non-null    float64\n",
            " 10  heartdis_type  740 non-null    int64  \n",
            "dtypes: bool(2), float64(4), int64(2), object(3)\n",
            "memory usage: 53.6+ KB\n"
          ]
        }
      ]
    },
    {
      "cell_type": "code",
      "source": [
        "df_thyroid.info()"
      ],
      "metadata": {
        "colab": {
          "base_uri": "https://localhost:8080/"
        },
        "id": "JKcNsbHUJyNE",
        "outputId": "c622e5cc-c5b3-4beb-fed3-33ddd5541a52"
      },
      "execution_count": null,
      "outputs": [
        {
          "output_type": "stream",
          "name": "stdout",
          "text": [
            "<class 'pandas.core.frame.DataFrame'>\n",
            "RangeIndex: 3772 entries, 0 to 3771\n",
            "Data columns (total 21 columns):\n",
            " #   Column                     Non-Null Count  Dtype  \n",
            "---  ------                     --------------  -----  \n",
            " 0   age                        3772 non-null   int64  \n",
            " 1   sex                        3772 non-null   object \n",
            " 2   on thyroxine               3772 non-null   bool   \n",
            " 3   query on thyroxine         3772 non-null   bool   \n",
            " 4   on antithyroid medication  3772 non-null   bool   \n",
            " 5   sick                       3772 non-null   bool   \n",
            " 6   pregnant                   3772 non-null   bool   \n",
            " 7   thyroid surgery            3772 non-null   bool   \n",
            " 8   I131 treatment             3772 non-null   bool   \n",
            " 9   query hypothyroid          3772 non-null   bool   \n",
            " 10  query hyperthyroid         3772 non-null   bool   \n",
            " 11  lithium                    3772 non-null   bool   \n",
            " 12  goitre                     3772 non-null   bool   \n",
            " 13  tumor                      3772 non-null   bool   \n",
            " 14  psych                      3772 non-null   bool   \n",
            " 15  TSH                        3772 non-null   float64\n",
            " 16  T3                         3772 non-null   float64\n",
            " 17  TT4                        3772 non-null   float64\n",
            " 18  T4U                        3772 non-null   float64\n",
            " 19  FTI                        3772 non-null   float64\n",
            " 20  has_thyroid_disease        3772 non-null   bool   \n",
            "dtypes: bool(14), float64(5), int64(1), object(1)\n",
            "memory usage: 258.0+ KB\n"
          ]
        }
      ]
    },
    {
      "cell_type": "markdown",
      "source": [
        "# Making Model (SVM)"
      ],
      "metadata": {
        "id": "JeXdXu7dKF4o"
      }
    },
    {
      "cell_type": "markdown",
      "source": [
        "## Diabetes Model"
      ],
      "metadata": {
        "id": "dLTpFU8fKO4Q"
      }
    },
    {
      "cell_type": "code",
      "source": [
        "from sklearn.ensemble import RandomForestClassifier\n",
        "\n",
        "# Separate features and target\n",
        "X = df_diabetes[['code']]\n",
        "y = df_diabetes['diabetes_type']\n",
        "\n",
        "# Split data into train and test sets\n",
        "X_train, X_test, y_train, y_test = train_test_split(X, y, test_size=0.2, random_state=42)\n",
        "\n",
        "# Initialize and train the SVM model\n",
        "diabetes_model = RandomForestClassifier(random_state=42)\n",
        "diabetes_model.fit(X_train, y_train)\n",
        "\n",
        "# Make predictions\n",
        "y_pred = diabetes_model.predict(X_test)\n",
        "prob = diabetes_model.predict_proba(X_test)\n",
        "\n",
        "# Calculate metrics\n",
        "f1 = f1_score(y_test, y_pred, average='weighted')\n",
        "accuracy = accuracy_score(y_test, y_pred)\n",
        "precision = precision_score(y_test, y_pred, average='weighted')\n",
        "recall = recall_score(y_test, y_pred, average='weighted')\n",
        "\n",
        "# Print metrics\n",
        "print(\"F1 Score:\", f1)\n",
        "print(\"Accuracy:\", accuracy)\n",
        "print(\"Precision:\", precision)\n",
        "print(\"Recall:\", recall)"
      ],
      "metadata": {
        "colab": {
          "base_uri": "https://localhost:8080/"
        },
        "id": "SZFoLijsKJ2o",
        "outputId": "79dfa289-61c3-408b-c53a-d5300c519069"
      },
      "execution_count": null,
      "outputs": [
        {
          "output_type": "stream",
          "name": "stdout",
          "text": [
            "F1 Score: 0.7169263760694449\n",
            "Accuracy: 0.7445317840054683\n",
            "Precision: 0.7431638393945541\n",
            "Recall: 0.7445317840054683\n"
          ]
        },
        {
          "output_type": "stream",
          "name": "stderr",
          "text": [
            "/usr/local/lib/python3.10/dist-packages/sklearn/metrics/_classification.py:1531: UndefinedMetricWarning: Precision is ill-defined and being set to 0.0 in labels with no predicted samples. Use `zero_division` parameter to control this behavior.\n",
            "  _warn_prf(average, modifier, f\"{metric.capitalize()} is\", len(result))\n"
          ]
        }
      ]
    },
    {
      "cell_type": "markdown",
      "source": [
        "## Heart Disease Model"
      ],
      "metadata": {
        "id": "QJlgmlHYKReA"
      }
    },
    {
      "cell_type": "code",
      "source": [
        "from sklearn.preprocessing import OneHotEncoder\n",
        "from sklearn.compose import ColumnTransformer\n",
        "from sklearn.pipeline import Pipeline\n",
        "from sklearn.svm import SVC\n",
        "\n",
        "X = df_heartdis.drop('heartdis_type', axis=1)\n",
        "y = df_heartdis['heartdis_type']\n",
        "\n",
        "categorical_cols = X.select_dtypes(include=['object']).columns.tolist()\n",
        "numerical_cols = X.select_dtypes(include=['int64', 'float64']).columns.tolist()\n",
        "bool_cols = X.select_dtypes(include=['bool']).columns.tolist()\n",
        "\n",
        "X_train, X_test, y_train, y_test = train_test_split(X, y, test_size=0.2, random_state=12)\n",
        "\n",
        "preprocessor = ColumnTransformer(\n",
        "    transformers=[\n",
        "        ('num', 'passthrough', numerical_cols),\n",
        "        ('cat', OneHotEncoder(), categorical_cols),\n",
        "        ('scaler', StandardScaler(), numerical_cols)\n",
        "    ])\n",
        "\n",
        "heartdis_model_pipeline = Pipeline(steps=[\n",
        "    ('preprocessor', preprocessor),\n",
        "    ('model', SVC(probability=True, kernel='rbf', C=10000, random_state=42))\n",
        "])\n",
        "\n",
        "heartdis_model_pipeline.fit(X_train, y_train)\n",
        "\n",
        "y_pred = heartdis_model_pipeline.predict(X_test)\n",
        "prob = heartdis_model_pipeline.predict_proba(X_test)\n",
        "\n",
        "f1 = f1_score(y_test, y_pred, average='weighted')\n",
        "accuracy = accuracy_score(y_test, y_pred)\n",
        "precision = precision_score(y_test, y_pred, average='weighted')\n",
        "recall = recall_score(y_test, y_pred, average='weighted')\n",
        "\n",
        "print(\"F1 Score:\", f1)\n",
        "print(\"Accuracy:\", accuracy)\n",
        "print(\"Precision:\", precision)\n",
        "print(\"Recall:\", recall)"
      ],
      "metadata": {
        "colab": {
          "base_uri": "https://localhost:8080/"
        },
        "id": "MTb6IC4IKTvy",
        "outputId": "d86cd05e-8a9b-4b8a-a463-ce98186284a5"
      },
      "execution_count": null,
      "outputs": [
        {
          "output_type": "stream",
          "name": "stdout",
          "text": [
            "F1 Score: 0.5237860468123625\n",
            "Accuracy: 0.5608108108108109\n",
            "Precision: 0.4966118533397394\n",
            "Recall: 0.5608108108108109\n"
          ]
        },
        {
          "output_type": "stream",
          "name": "stderr",
          "text": [
            "/usr/local/lib/python3.10/dist-packages/sklearn/metrics/_classification.py:1531: UndefinedMetricWarning: Precision is ill-defined and being set to 0.0 in labels with no predicted samples. Use `zero_division` parameter to control this behavior.\n",
            "  _warn_prf(average, modifier, f\"{metric.capitalize()} is\", len(result))\n"
          ]
        }
      ]
    },
    {
      "cell_type": "markdown",
      "source": [
        "## Thyroid Model"
      ],
      "metadata": {
        "id": "nspk7qn3KT_j"
      }
    },
    {
      "cell_type": "code",
      "source": [
        "from sklearn.preprocessing import OneHotEncoder\n",
        "from sklearn.compose import ColumnTransformer\n",
        "from sklearn.pipeline import Pipeline\n",
        "from sklearn.svm import SVC\n",
        "\n",
        "X = df_thyroid.drop('has_thyroid_disease', axis=1)\n",
        "y = df_thyroid['has_thyroid_disease']\n",
        "\n",
        "categorical_cols = ['sex']\n",
        "bool_cols = X.select_dtypes(include=['bool']).columns.tolist()\n",
        "numerical_cols = X.select_dtypes(include=['int64', 'float64']).columns.tolist()\n",
        "\n",
        "preprocessor = ColumnTransformer(\n",
        "    transformers=[\n",
        "        ('num', 'passthrough', numerical_cols),\n",
        "        ('cat', OneHotEncoder(), categorical_cols),\n",
        "        ('scaler', StandardScaler(), numerical_cols)\n",
        "    ])\n",
        "\n",
        "thyroid_model_pipeline = Pipeline(steps=[\n",
        "    ('preprocessor', preprocessor),\n",
        "    ('svm', SVC(probability=True, kernel='rbf', C=10, random_state=42))\n",
        "])\n",
        "\n",
        "X_train, X_test, y_train, y_test = train_test_split(X, y, test_size=0.2, random_state=42)\n",
        "\n",
        "thyroid_model_pipeline.fit(X_train, y_train)\n",
        "\n",
        "y_pred = thyroid_model_pipeline.predict(X_test)\n",
        "prob = thyroid_model_pipeline.predict_proba(X_test)\n",
        "\n",
        "f1 = f1_score(y_test, y_pred)\n",
        "accuracy = accuracy_score(y_test, y_pred)\n",
        "precision = precision_score(y_test, y_pred)\n",
        "recall = recall_score(y_test, y_pred)\n",
        "\n",
        "print(\"F1 Score:\", f1)\n",
        "print(\"Accuracy:\", accuracy)\n",
        "print(\"Precision:\", precision)\n",
        "print(\"Recall:\", recall)"
      ],
      "metadata": {
        "colab": {
          "base_uri": "https://localhost:8080/"
        },
        "id": "d77fC5beKVWq",
        "outputId": "a8b4bf1e-b181-4982-c36e-f85a5f80ef9a"
      },
      "execution_count": null,
      "outputs": [
        {
          "output_type": "stream",
          "name": "stdout",
          "text": [
            "F1 Score: 0.9738884968242767\n",
            "Accuracy: 0.9509933774834437\n",
            "Precision: 0.9583333333333334\n",
            "Recall: 0.9899569583931134\n"
          ]
        }
      ]
    },
    {
      "cell_type": "markdown",
      "source": [
        "# Fuzzy Inference System"
      ],
      "metadata": {
        "id": "3sl4HRy9N1Fn"
      }
    },
    {
      "cell_type": "markdown",
      "source": [
        "## Taking Input"
      ],
      "metadata": {
        "id": "9lwPBpYsPCax"
      }
    },
    {
      "cell_type": "code",
      "source": [
        "def get_user_data(str):\n",
        "    \"\"\"\n",
        "    Arguments\n",
        "    - str: 'diabetes', 'heartdis', or 'thyroid'\n",
        "    \"\"\"\n",
        "    if str == \"diabetes\":\n",
        "        X = df_diabetes.drop('diabetes_type', axis=1)\n",
        "        y = df_diabetes['diabetes_type']\n",
        "    elif str == \"heartdis\":\n",
        "        X = df_heartdis.drop('heartdis_type', axis=1)\n",
        "        y = df_heartdis['heartdis_type']\n",
        "    elif str == \"thyroid\":\n",
        "        X = df_thyroid.drop('has_thyroid_disease', axis=1)\n",
        "        y = df_thyroid['has_thyroid_disease']\n",
        "    else:\n",
        "        raise ValueError(\"Invalid input: expected 'diabetes', 'heartdis', or 'thyroid'\")\n",
        "    _, X_test, _, _ = train_test_split(X, y, test_size=0.2, random_state=42)\n",
        "    random_selection = X_test.sample(1)\n",
        "    return random_selection"
      ],
      "metadata": {
        "id": "q_sSDF_IPGv4"
      },
      "execution_count": null,
      "outputs": []
    },
    {
      "cell_type": "code",
      "source": [
        "def get_dscore(row):\n",
        "    classes = diabetes_model.classes_\n",
        "    prediction = diabetes_model.predict_proba(row)\n",
        "    probas = { classes[i]: prediction[0][i] for i in range(len(classes)) }\n",
        "    return max(probas.values())\n",
        "\n",
        "\n",
        "def get_hscore(row):\n",
        "    classes = heartdis_model_pipeline.classes_\n",
        "    prediction = heartdis_model_pipeline.predict_proba(row)\n",
        "    probas = { classes[i]: prediction[0][i] for i in range(len(classes)) }\n",
        "    return sum(probas[class_label] * int(class_label) for class_label in probas)\n",
        "\n",
        "\n",
        "def get_tscore(row):\n",
        "    classes = thyroid_model_pipeline.classes_\n",
        "    prediction = thyroid_model_pipeline.predict_proba(row)\n",
        "    probas = { classes[i]: prediction[0][i] for i in range(len(classes)) }\n",
        "    wtscore = sum(probas[class_label] * int(class_label) for class_label in probas)\n",
        "    return wtscore / (sum([ int(class_label) for class_label in probas ]))"
      ],
      "metadata": {
        "id": "xAIX5wcAQjfZ"
      },
      "execution_count": null,
      "outputs": []
    },
    {
      "cell_type": "markdown",
      "source": [
        "## Evaluation"
      ],
      "metadata": {
        "id": "FGAlcOQ_PEZh"
      }
    },
    {
      "cell_type": "code",
      "source": [
        "def low(x):\n",
        "    return max(0, min(1, (0.4 - x) / 0.4))\n",
        "\n",
        "def moderate(x):\n",
        "    return max(0, min((x - 0.3) / 0.4, (0.7 - x) / 0.4))\n",
        "\n",
        "def high(x):\n",
        "    return max(0, min((x - 0.6) / 0.4, 1))\n",
        "\n",
        "\n",
        "def fuzzify(score):\n",
        "    return {\n",
        "        \"low\": low(score),\n",
        "        \"moderate\": moderate(score),\n",
        "        \"high\": high(score)\n",
        "    }\n",
        "\n",
        "\n",
        "def evaluate_rules(d_score, h_score, t_score):\n",
        "    # Fuzzify each input\n",
        "    d_fuzzy = fuzzify(d_score)\n",
        "    h_fuzzy = fuzzify(h_score)\n",
        "    t_fuzzy = fuzzify(t_score)\n",
        "\n",
        "    # Initialize outputs for risk levels\n",
        "    low_risk, moderate_risk, high_risk = 0, 0, 0\n",
        "\n",
        "    # Rules\n",
        "    # Rule 1: IF d_score is high OR h_score is high THEN risk is high\n",
        "    high_risk = max(high_risk, max(d_fuzzy['high'], h_fuzzy['high']))\n",
        "    # Rule 2: IF d_score is moderate AND h_score is moderate AND t_score is moderate THEN risk is moderate\n",
        "    moderate_risk = max(moderate_risk, min(d_fuzzy['moderate'], h_fuzzy['moderate'], t_fuzzy['moderate']))\n",
        "    # Rule 3: IF d_score is low AND h_score is low AND t_score is low THEN risk is low\n",
        "    low_risk = max(low_risk, min(d_fuzzy['low'], h_fuzzy['low'], t_fuzzy['low']))\n",
        "    # Rule 4: IF d_score is high OR t_score is high THEN risk is moderate\n",
        "    moderate_risk = max(moderate_risk, max(d_fuzzy['high'], t_fuzzy['high']))\n",
        "\n",
        "    return low_risk, moderate_risk, high_risk\n",
        "\n",
        "\n",
        "def defuzzify(low_risk, moderate_risk, high_risk):\n",
        "    risk_levels = {\n",
        "        \"low\": 0.25,\n",
        "        \"moderate\": 0.5,\n",
        "        \"high\": 0.75\n",
        "    }\n",
        "    numerator = (low_risk * risk_levels[\"low\"] +\n",
        "                 moderate_risk * risk_levels[\"moderate\"] +\n",
        "                 high_risk * risk_levels[\"high\"])\n",
        "    denominator = low_risk + moderate_risk + high_risk\n",
        "    return numerator / denominator if denominator != 0 else 0\n",
        "\n",
        "\n",
        "def calculate_final_risk(d_score, h_score, t_score, threshold=0.5):\n",
        "    low_risk, moderate_risk, high_risk = evaluate_rules(d_score, h_score, t_score)\n",
        "    final_risk_score = defuzzify(low_risk, moderate_risk, high_risk)\n",
        "    risk_status = \"In Danger\" if final_risk_score > threshold else \"Not in Danger\"\n",
        "    return final_risk_score, risk_status\n",
        "\n",
        "\n",
        "d_score = get_dscore(get_user_data('diabetes'))\n",
        "h_score = get_hscore(get_user_data('heartdis'))\n",
        "t_score = get_tscore(get_user_data('thyroid'))\n",
        "\n",
        "print(\"Diabetes Score:\", d_score)\n",
        "print(\"Heart Disease Score:\", h_score)\n",
        "print(\"Thyroid Score:\", t_score)\n",
        "\n",
        "\n",
        "final_score, status = calculate_final_risk(d_score, h_score, t_score)\n",
        "print(\"Final Risk Score:\", final_score)\n",
        "print(\"Risk Status:\", status)"
      ],
      "metadata": {
        "colab": {
          "base_uri": "https://localhost:8080/"
        },
        "id": "7TZf0QpRN6Gf",
        "outputId": "4ec0de2f-e47f-4f03-cb2f-98e50fa89b72"
      },
      "execution_count": null,
      "outputs": [
        {
          "output_type": "stream",
          "name": "stdout",
          "text": [
            "Diabetes Score: 0.45546908340759445\n",
            "Heart Disease Score: 0.7107695324795081\n",
            "Thyroid Score: 0.6256012504488321\n",
            "Final Risk Score: 0.7030668338571375\n",
            "Risk Status: In Danger\n"
          ]
        }
      ]
    }
  ]
}