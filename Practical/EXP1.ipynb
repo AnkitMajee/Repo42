{
  "nbformat": 4,
  "nbformat_minor": 0,
  "metadata": {
    "colab": {
      "provenance": []
    },
    "kernelspec": {
      "name": "python3",
      "display_name": "Python 3"
    },
    "language_info": {
      "name": "python"
    }
  },
  "cells": [
    {
      "cell_type": "markdown",
      "source": [
        "Given 5 matrices A1 (5, 7), A2 (3, 7), A3 (11, 7), A4 (7, 5) and A5 (7, 3), find the best possible matrix multiplication."
      ],
      "metadata": {
        "id": "f_MQiMOCpskS"
      }
    },
    {
      "cell_type": "code",
      "source": [
        "def find_matrix_mul_order(matrices):\n",
        "    def backtrack(current_seq, visited):\n",
        "        if len(current_seq) == len(matrices):\n",
        "            return current_seq\n",
        "        for i in range(len(matrices)):\n",
        "            if visited[i]:\n",
        "                continue\n",
        "            if len(current_seq) == 0 or current_seq[-1][1] == matrices[i][0]:\n",
        "                visited[i] = True\n",
        "                result = backtrack(current_seq + [matrices[i]], visited)\n",
        "                if result:\n",
        "                    return result\n",
        "                visited[i] = False\n",
        "        return []\n",
        "    if len(matrices) == 0:\n",
        "        return []\n",
        "    visited = [False] * len(matrices)\n",
        "    return backtrack([], visited)"
      ],
      "metadata": {
        "id": "G4-cYtcnranX"
      },
      "execution_count": null,
      "outputs": []
    },
    {
      "cell_type": "code",
      "source": [
        "# Define the matrices dimensions\n",
        "A1 = (5, 7)\n",
        "A2 = (3, 7)\n",
        "A3 = (11, 7)\n",
        "A4 = (7, 5)\n",
        "A5 = (7, 3)\n",
        "\n",
        "# Get the dimensions of the matrices\n",
        "matrices = [A1, A2, A3, A4, A5]\n",
        "matrices = find_matrix_mul_order(matrices)\n",
        "print('valid order:', matrices)"
      ],
      "metadata": {
        "colab": {
          "base_uri": "https://localhost:8080/"
        },
        "id": "4_Yhi_B5sam5",
        "outputId": "02ba7a66-5068-44ee-b161-0a712477f828"
      },
      "execution_count": null,
      "outputs": [
        {
          "output_type": "stream",
          "name": "stdout",
          "text": [
            "valid order: [(11, 7), (7, 5), (5, 7), (7, 3), (3, 7)]\n"
          ]
        }
      ]
    },
    {
      "cell_type": "code",
      "execution_count": null,
      "metadata": {
        "id": "GircPEM3L0i0"
      },
      "outputs": [],
      "source": [
        "def matrix_chain_mul(p):\n",
        "    n = len(p) - 1\n",
        "    m = [[0 for j in range(n)] for i in range(n)]\n",
        "    s = [[0 for j in range(n)] for i in range(n)]\n",
        "    for l in range(2, n + 1):\n",
        "        for i in range(1, n - l + 2):\n",
        "            j = i + l - 1\n",
        "            m[i-1][j-1] = int(0xFFFFFFFF)\n",
        "            for k in range(i, j):\n",
        "                q = (m[i-1][k-1] + m[k][j-1] + p[i-1] * p[k] * p[j])\n",
        "                if q < m[i-1][j-1]:\n",
        "                    m[i-1][j-1] = q\n",
        "                    s[i-1][j-1] = k\n",
        "    return m, s\n",
        "\n",
        "\n",
        "def print_optimal_parens(s, i, j):\n",
        "    if i == j:\n",
        "        print(f'A{i+1}', end='')\n",
        "    else:\n",
        "        print('(', end='')\n",
        "        print_optimal_parens(s, i, s[i][j] - 1)\n",
        "        print_optimal_parens(s, s[i][j], j)\n",
        "        print(')', end='')"
      ]
    },
    {
      "cell_type": "code",
      "source": [
        "dimensions = [dim[0] for dim in matrices] + [matrices[-1][1]]\n",
        "\n",
        "# Compute matrix chain order\n",
        "m, s = matrix_chain_mul(dimensions)\n",
        "\n",
        "# Print the optimal order of multiplication\n",
        "print('optimal multiplication order:', end='')\n",
        "print_optimal_parens(s, 0, len(matrices) - 1)\n",
        "print()"
      ],
      "metadata": {
        "id": "nfPnaRLaQthp",
        "outputId": "fd6252e8-65b1-445a-8027-5956ff715c91",
        "colab": {
          "base_uri": "https://localhost:8080/"
        }
      },
      "execution_count": null,
      "outputs": [
        {
          "output_type": "stream",
          "name": "stdout",
          "text": [
            "optimal multiplication order:((A1(A2(A3A4)))A5)\n"
          ]
        }
      ]
    }
  ]
}